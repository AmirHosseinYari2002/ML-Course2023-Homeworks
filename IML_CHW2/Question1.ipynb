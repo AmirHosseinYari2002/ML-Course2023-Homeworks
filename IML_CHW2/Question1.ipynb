{
  "cells": [
    {
      "attachments": {},
      "cell_type": "markdown",
      "metadata": {
        "id": "p03hoMY_KC5B"
      },
      "source": [
        "<h1 align=\"center\">An Introduction to Machine Learning - 25737</h1>\n",
        "<h4 align=\"center\">Dr. Sajjad Amini</h4>\n",
        "<h4 align=\"center\">Sharif University of Technology, Spring 2023</h4>\n",
        "\n",
        "**Student Name**: Amir Hossein Yari\n",
        "\n",
        "**Student ID**: 99102507\n",
        "\n",
        "# Linear Regression\n",
        "\n",
        "In this exercise, we want to examine **linear regression**. For this purpose, we have prepared a dataset in the `q1.csv` file. This dataset is used to estimate the **heating load** and **cooling load** of a building based on its parameters. The parameters in this dataset are explained below:\n",
        "\n",
        "- $X_1$: Relative Compactness\n",
        "- $X_2$: Surface Area\n",
        "- $X_3$: Wall Area\n",
        "- $X_4$: Roof Area\n",
        "- $X_5$: Overall Height\n",
        "- $X_6$: Orientation\n",
        "- $X_7$: Glazing Area\n",
        "- $X_8$: Glazing Area Distribution\n",
        "- $Y_1$: Heating Load\n",
        "- $Y_2$: Cooling Load\n",
        "\n",
        "**Note**: For the sake of simplicity, we will only focus on estimating the **heating load** in this problem. Also, please note that we have some inline questions in this notebook, for which you should write your answers in the **Answer** section below each question."
      ]
    },
    {
      "cell_type": "markdown",
      "metadata": {
        "id": "P6_GSec1OXRM"
      },
      "source": [
        "## Importing Libraries\n",
        "\n",
        "First we import libraries that we need for this assignment.\n",
        "\n",
        "**Attention**: You should only use these libraries. Other libraries are not acceptable."
      ]
    },
    {
      "cell_type": "code",
      "execution_count": 1,
      "metadata": {
        "id": "5u7kqX0wONrr"
      },
      "outputs": [],
      "source": [
        "import numpy as np\n",
        "import pandas as pd\n",
        "import matplotlib.pyplot as plt"
      ]
    },
    {
      "attachments": {},
      "cell_type": "markdown",
      "metadata": {
        "id": "9he9c_YvMqAL"
      },
      "source": [
        "## Reading Data and Preprocessing\n",
        "\n",
        "In this section, we want to read data from a CSV file and then preprocess it to make it ready for the rest of the problem.\n",
        "\n",
        "First, we read the data in the cell below and extract an $m \\times n$ matrix, $X$, and an $m \\times 1$ vector, $Y$, from it, which represent our knowledge about the building (`X1`, `X2`, ..., `X8`) and heating load (`Y1`), respectively. Note that by $m$, we mean the number of data points and by $n$, we mean the number of features."
      ]
    },
    {
      "cell_type": "code",
      "execution_count": 2,
      "metadata": {
        "id": "bV10SRSaJ_DJ"
      },
      "outputs": [
        {
          "name": "stdout",
          "output_type": "stream",
          "text": [
            "(768, 8)\n",
            "(768, 1)\n"
          ]
        }
      ],
      "source": [
        "X, Y = None, None\n",
        "\n",
        "### START CODE HERE ###\n",
        "df = pd.read_csv('q1.csv')\n",
        "X = df.iloc[:,:8]\n",
        "Y = df.loc[:,[\"Y1\"]]\n",
        "### END CODE HERE ###\n",
        "\n",
        "print(X.shape)\n",
        "print(Y.shape)"
      ]
    },
    {
      "attachments": {},
      "cell_type": "markdown",
      "metadata": {
        "id": "EkZeww-2OAuX"
      },
      "source": [
        "Next, we should normalize our data. For normalizing a vector $\\mathbf{x}$, a very common method is to use this formula:\n",
        "\n",
        "$$\n",
        "\\mathbf{x}_{norm} = \\dfrac{\\mathbf{x} - \\overline{\\mathbf{x}}}{\\sigma_\\mathbf{x}}\n",
        "$$\n",
        "\n",
        "Here, $\\overline{x}$ and $\\sigma_\\mathbf{x}$ denote the mean and standard deviation of vector $\\mathbf{x}$, respectively. Use this formula and store the new $X$ and $Y$ vectors in the cell below.\n",
        "\n",
        "**Question**: Briefly explain why we need to normalize our data before starting the training.\n",
        "\n",
        "**Answer**: In summary, data normalization is crucial in machine learning to mitigate the problems caused by differing scales, improve convergence, ensure numerical stability, enable meaningful comparisons, and enhance the performance and interpretability of various learning algorithms."
      ]
    },
    {
      "cell_type": "code",
      "execution_count": 84,
      "metadata": {
        "id": "Y2i0bjxUPak2"
      },
      "outputs": [],
      "source": [
        "### START CODE HERE ###\n",
        "X = X.to_numpy()\n",
        "Y = Y.to_numpy()\n",
        "for i in range(X.shape[1]):\n",
        "    X[:,i] = (X[:,i] - X[:,i].mean()) / X[:,i].std()\n",
        "Y = (Y - Y.mean()) / Y.std()\n",
        "### END CODE HERE ###"
      ]
    },
    {
      "attachments": {},
      "cell_type": "markdown",
      "metadata": {
        "id": "mvmHQ-mxQzDE"
      },
      "source": [
        "Finally, we should add a column of $1$s at the beginning of $X$ to represent the bias term. Do this in the next cell. Note that after this process, $X$ should be an $m \\times (n+1)$ matrix."
      ]
    },
    {
      "cell_type": "code",
      "execution_count": 85,
      "metadata": {
        "id": "QLfV7VQNRCfF"
      },
      "outputs": [
        {
          "name": "stdout",
          "output_type": "stream",
          "text": [
            "(768, 9)\n"
          ]
        }
      ],
      "source": [
        "### START CODE HERE ###\n",
        "X = np.append(np.zeros([X.shape[0],1]),X,axis=1)\n",
        "### END CODE HERE ###\n",
        "\n",
        "print(X.shape)"
      ]
    },
    {
      "attachments": {},
      "cell_type": "markdown",
      "metadata": {
        "id": "nO--dppbRsdb"
      },
      "source": [
        "## Training Model Using Direct Method\n",
        "\n",
        "We know that the loss function in linear regression is defined as:\n",
        "\n",
        "$$\n",
        "\\mathcal{L}(\\mathbf{w}) = \\frac{1}{m}\\sum_{i=1}^{m}(\\mathbf{w}^\\top\\mathbf{x}_i-y_i)^2\n",
        "$$\n",
        "\n",
        "Here, $w$ is the weight vector and $(x_i, y_i)$ represents the $i$th data point. First, write a function that takes $X$, $Y$, and $w$ as inputs and returns the loss value in the next cell. Note that your implementation should be fully vectorized, meaning that you are not allowed to use any loops in your function and should only use functions prepared in the numpy library."
      ]
    },
    {
      "attachments": {},
      "cell_type": "markdown",
      "metadata": {},
      "source": [
        "$$\\mathcal{L}(\\mathbf{w}) = \\frac{1}{m} \\sum_{i=1}^{m} (\\mathbf{w}^\\top \\mathbf{x}_i - y_i)^2 = \\frac{1}{m} (\\mathbf{X} \\mathbf{w} - \\mathbf{y})^\\top (\\mathbf{X} \\mathbf{w} - \\mathbf{y})$$"
      ]
    },
    {
      "cell_type": "code",
      "execution_count": 118,
      "metadata": {
        "id": "bSbXtyXCRzD3"
      },
      "outputs": [],
      "source": [
        "def loss(X, Y, w):\n",
        "  '''\n",
        "  X: an m by (n+1) matrix which includes inputs\n",
        "  Y: an m by 1 vector which includes heating loads\n",
        "  w: an (n+1) by 1 weight vector\n",
        "  '''\n",
        "  m, n = X.shape\n",
        "  loss = None\n",
        "  ### START CODE HERE ###]\n",
        "  loss = np.mean((X @ w - Y)**2)\n",
        "  ### END CODE HERE ###\n",
        "  return loss"
      ]
    },
    {
      "attachments": {},
      "cell_type": "markdown",
      "metadata": {
        "id": "VuhSB9zaTfwm"
      },
      "source": [
        "Now, we want to calculate the weight matrix, $w$, using the direct method. By direct method, we mean finding the answer to the optimization problem below directly using linear algebra, without using iterative methods:\n",
        "\n",
        "$$\n",
        "\\min_{w} \\mathcal{L}(w)\n",
        "$$\n",
        "\n",
        "Question: What is the answer to this problem in terms of $X$ and $Y$?\n",
        "\n",
        "Answer: \n",
        "$$\\mathcal{L}(\\mathbf{w}) = \\frac{1}{m} (\\mathbf{X} \\mathbf{w} - \\mathbf{y})^\\top (\\mathbf{X} \\mathbf{w} - \\mathbf{y}) = \\frac{1}{m} (\\mathbf{w}^\\top \\mathbf{X}^\\top \\mathbf{X} \\mathbf{w} - 2 \\mathbf{w}^\\top \\mathbf{X}^\\top \\mathbf{y} + \\mathbf{y}^\\top \\mathbf{y})$$\n",
        "$$\\frac{\\partial \\mathcal{L}(\\mathbf{w})}{\\partial \\mathbf{w}} = \\frac{2}{m} (\\mathbf{X}^\\top \\mathbf{X} \\mathbf{w} - \\mathbf{X}^\\top \\mathbf{y}) = \\mathbf{0}$$\n",
        "$$\\mathbf{X}^\\top \\mathbf{X} \\mathbf{w} - \\mathbf{X}^\\top \\mathbf{y} = \\mathbf{0}$$\n",
        "$$\\mathbf{X}^\\top \\mathbf{X} \\mathbf{w} = \\mathbf{X}^\\top \\mathbf{y}$$\n",
        "$$(\\mathbf{X}^\\top \\mathbf{X})^{-1} (\\mathbf{X}^\\top \\mathbf{X} \\mathbf{w}) = (\\mathbf{X}^\\top \\mathbf{X})^{-1} (\\mathbf{X}^\\top \\mathbf{y})$$\n",
        "$$\\mathbf{w} = (\\mathbf{X}^\\top \\mathbf{X})^{-1} \\mathbf{X}^\\top \\mathbf{y} = \\mathbf{X}^\\dagger \\mathbf{y}$$"
      ]
    },
    {
      "cell_type": "code",
      "execution_count": 106,
      "metadata": {
        "id": "-gCUK01DT-cW"
      },
      "outputs": [],
      "source": [
        "def direct_method(X, Y):\n",
        "  '''\n",
        "  X: an m by (n+1) matrix which includes inputs\n",
        "  Y: an m by 1 vector which includes heating loads\n",
        "  '''\n",
        "  w = None\n",
        "  ### START CODE HERE ###\n",
        "  w = np.linalg.pinv(X) @ Y\n",
        "  ### END CODE HERE ###\n",
        "  return w"
      ]
    },
    {
      "attachments": {},
      "cell_type": "markdown",
      "metadata": {
        "id": "thFIeOaSUvlw"
      },
      "source": [
        "Finally, we want to evaluate our loss for this problem. Run the cell below to calculate the loss of your model."
      ]
    },
    {
      "cell_type": "code",
      "execution_count": 119,
      "metadata": {
        "id": "6gGDh11VU8vF"
      },
      "outputs": [
        {
          "name": "stdout",
          "output_type": "stream",
          "text": [
            "loss for this problem using direct method is 0.08379791780841635\n"
          ]
        }
      ],
      "source": [
        "w = direct_method(X, Y) # calculating w using direct method\n",
        "print(f\"loss for this problem using direct method is {loss(X, Y, w)}\")"
      ]
    },
    {
      "attachments": {},
      "cell_type": "markdown",
      "metadata": {
        "id": "QaG14YG9VXiS"
      },
      "source": [
        "## Training Model Using Gradient Descent\n",
        "\n",
        "Now, instead of using the direct method to calculate $w$, we want to use the **Gradient Descent** algorithm. We know that in this algorithm, in each iteration, we should update our weight vector with:\n",
        "\n",
        "$$\n",
        "\\mathbf{w}^{(t+1)} = \\mathbf{w}^{(t)} - \\alpha \\nabla \\mathcal{L}(\\mathbf{w}^{(t)})\n",
        "$$\n",
        "\n",
        "Here, $w^{t}$ represents the weight matrix in the $t$th iteration, and $\\alpha$ represents the learning rate.\n",
        "\n",
        "**Question**: Write an expression for $\\nabla\\mathcal{L}(\\mathbf{w})$.\n",
        "\n",
        "**Answer**: \n",
        "$$\\mathcal{L}(\\mathbf{w}) = \\frac{1}{m} (\\mathbf{X} \\mathbf{w} - \\mathbf{y})^\\top (\\mathbf{X} \\mathbf{w} - \\mathbf{y}) = \\frac{1}{m} (\\mathbf{w}^\\top \\mathbf{X}^\\top \\mathbf{X} \\mathbf{w} - 2 \\mathbf{w}^\\top \\mathbf{X}^\\top \\mathbf{y} + \\mathbf{y}^\\top \\mathbf{y})$$\n",
        "$$\\frac{\\partial \\mathcal{L}(\\mathbf{w})}{\\partial \\mathbf{w}} = \\frac{2}{m} (\\mathbf{X}^\\top \\mathbf{X} \\mathbf{w} - \\mathbf{X}^\\top \\mathbf{y})$$\n",
        "\n",
        "Now, write a function that computes the gradient of $\\mathcal{L}(\\mathbf{w})$. This function should receive $X$, $Y$, and $\\mathbf{w}$ as inputs and return an $(n+1) \\times 1$ vector, which represents $\\nabla\\mathcal{L}(\\mathbf{w})$. Note that your implementation should also be **fully vectorized**."
      ]
    },
    {
      "cell_type": "code",
      "execution_count": 91,
      "metadata": {
        "id": "yqVQ-8I-VeVc"
      },
      "outputs": [],
      "source": [
        "def gradient(X, Y, w):\n",
        "  '''\n",
        "  X: an m by (n+1) matrix which includes inputs\n",
        "  Y: an m by 1 vector which includes heating loads\n",
        "  w: an (n+1) by 1 weight vector\n",
        "  '''\n",
        "  m, n = X.shape\n",
        "  grad = None\n",
        "  ### START CODE HERE ###\n",
        "  grad = (2/m) * (X.T @ X @ w - X.T @Y)\n",
        "  ### END CODE HERE ###\n",
        "  return grad"
      ]
    },
    {
      "attachments": {},
      "cell_type": "markdown",
      "metadata": {
        "id": "TJP5KaZzXz5K"
      },
      "source": [
        "Now, we are ready to implement the Gradient Descent algorithm. Complete the function below for this purpose. Note that this function receives $X$, $Y$, the learning rate, and the number of iterations as inputs. This function should return two parameters. The first parameter is $\\mathbf{w}$, and the second parameter is a `numpy` array that contains the loss in each iteration. This array is indicated by `loss_history` in the code. Also note that you should initialize $\\mathbf{w}$ with the `randn` function."
      ]
    },
    {
      "cell_type": "code",
      "execution_count": 142,
      "metadata": {
        "id": "qdfNjz5DYgD7"
      },
      "outputs": [],
      "source": [
        "# Adding w as an input is so that in the next step the initial value of w is the same for different learning rates, so that our observations are more accurate.\n",
        "def gradient_descent(X, Y, alpha, num_iter, w):\n",
        "  '''\n",
        "  X: an m by (n+1) matrix which includes inputs\n",
        "  Y: an m by 1 vector which includes heating loads\n",
        "  alpha: learning rate\n",
        "  num_iter: number of iterations of the algorithm\n",
        "  '''\n",
        "  m, n = X.shape\n",
        "  ### START CODE HERE ###\n",
        "  if w is None:\n",
        "      w = np.random.randn(n)\n",
        "  loss_history = np.zeros(num_iter)\n",
        "  for i in range(num_iter):\n",
        "        loss_history[i] = loss(X, Y, w)\n",
        "        w = w - alpha * gradient(X, Y, w)\n",
        "  ### END CODE HERE ###\n",
        "  return w, loss_history"
      ]
    },
    {
      "attachments": {},
      "cell_type": "markdown",
      "metadata": {
        "id": "CjGioRweZK9O"
      },
      "source": [
        "Now, run the `gradient_descent` function for 5 different values of the learning rate. Plot the `loss_history` of these 5 different values in the same figure.\n",
        "\n",
        "**Question**: Discuss the effect of the learning rate and find the best value of this parameter.\n",
        "\n",
        "**Answer**: \n",
        "The effect of the learning rate on the loss in gradient descent can be summarized as follows:\n",
        "1. Convergence Speed: The learning rate determines how quickly the algorithm converges to the optimal solution. A higher learning rate allows for larger steps in the parameter space, leading to faster convergence. However, if the learning rate is too high, the algorithm may overshoot the optimal solution and fail to converge.\n",
        "2. Loss Fluctuations: In practice, using a high learning rate can lead to oscillations or fluctuations in the loss function. The algorithm might overshoot the optimal solution and keep bouncing back and forth around it, failing to converge. This is often referred to as \"diverging\" or \"blowing up\" due to an excessively high learning rate. To avoid such instability, it is essential to choose an appropriate learning rate.\n",
        "3. Local Minima and Plateaus: Gradient descent can get stuck in local minima or flat plateaus, where the loss function remains relatively constant. With a high learning rate, the algorithm may have enough momentum to escape shallow local minima and reach a better solution. However, a low learning rate might cause the algorithm to get trapped in these areas, preventing it from finding the global minimum.\n",
        "4. Overshooting and Fine-tuning: A high learning rate can cause overshooting, where the algorithm jumps past the optimal solution and continues to oscillate.\n",
        "5. Regularization Impact: Learning rate can interact with regularization techniques like L1 or L2 regularization. Higher learning rates may counteract the effect of regularization, leading to underfitting, while lower learning rates can complement regularization by allowing the model to explore a wider parameter space.\n",
        "\n",
        "According to the below graph the best value of learning rate is 1e-1 or 0.1. By choosing this learning rate, convergence occurs with a good speed."
      ]
    },
    {
      "cell_type": "code",
      "execution_count": 143,
      "metadata": {
        "id": "yMuwbOokZtcL"
      },
      "outputs": [
        {
          "data": {
            "image/png": "[encoded data removed]",
            "text/plain": [
              "<Figure size 640x480 with 1 Axes>"
            ]
          },
          "metadata": {},
          "output_type": "display_data"
        }
      ],
      "source": [
        "### START CODE HERE ###\n",
        "# initialize w with random number\n",
        "w0 = np.random.randn(X.shape[1])\n",
        "# apply gradient_descent function in diffrent learning rate\n",
        "w1, loss_history1 = gradient_descent(X, Y, 1e-1, 1000, w0)\n",
        "w2, loss_history2 = gradient_descent(X, Y, 1e-2, 1000, w0)\n",
        "w3, loss_history3 = gradient_descent(X, Y, 1e-3, 1000, w0)\n",
        "w4, loss_history4 = gradient_descent(X, Y, 1e-4, 1000, w0)\n",
        "w5, loss_history5 = gradient_descent(X, Y, 1e-5, 1000, w0)\n",
        "# plotting (I do not include L(w) of step zero in the graph because its large value disturbs the scaling of the graph.)\n",
        "plt.figure()\n",
        "plt.plot(np.arange(1, 1000), loss_history1[1:1000], label='alpha = 1e-1')\n",
        "plt.plot(np.arange(1, 1000), loss_history2[1:1000], label='alpha = 1e-2')\n",
        "plt.plot(np.arange(1, 1000), loss_history3[1:1000], label='alpha = 1e-3')\n",
        "plt.plot(np.arange(1, 1000), loss_history4[1:1000], label='alpha = 1e-4')\n",
        "plt.plot(np.arange(1, 1000), loss_history5[1:1000], label='alpha = 1e-5')\n",
        "plt.xlabel('number of iterations')\n",
        "plt.ylabel(\"L(w)\")\n",
        "plt.legend()\n",
        "plt.title(\"effect of different learning rates\")\n",
        "plt.show()\n",
        "### END CODE HERE ###"
      ]
    },
    {
      "attachments": {},
      "cell_type": "markdown",
      "metadata": {
        "id": "k-lyJhZqZ18d"
      },
      "source": [
        "## Conclusion\n",
        "\n",
        "Compare the answer of two different methods that we used earlier.\n",
        "\n",
        "**Question**: Discuss these two methods and compare them with each other. When is it better to use the direct method, and when is it better to use Gradient Descent?\n",
        "\n",
        "**Answer**: According to the loss's obtained from the two methods, it can be said that the direct method is better in this question due to less loss($0.0837 < 0.888$).$\\\\$\n",
        "The direct method is preferable for small or moderate-sized problems or smooth and convex objective functions. It efficiently finds the global optimum without iterative updates, making it computationally efficient. gradient descent is more suitable for large-scale problems, non-convex or non-smooth objective functions, online learning scenarios, and deep learning models."
      ]
    },
    {
      "cell_type": "code",
      "execution_count": 145,
      "metadata": {},
      "outputs": [
        {
          "name": "stdout",
          "output_type": "stream",
          "text": [
            "loss for this problem using gradient descent methode with best learning rate is 0.08889040383879733\n"
          ]
        }
      ],
      "source": [
        "print(f\"loss for this problem using gradient descent methode with best learning rate is {loss_history1[999]}\")"
      ]
    },
    {
      "attachments": {},
      "cell_type": "markdown",
      "metadata": {
        "id": "MF15dsmXaUzJ"
      },
      "source": [
        "## (Additional Part) Stochastic Gradient Descent\n",
        "\n",
        "When the number of data points becomes large, calculating the gradient becomes very complicated. In these circumstances, we use **Stochastic Gradient Descent**. In this algorithm, instead of using all of the data points to calculate the gradient, we use only a small number of them. We choose these small number of points randomly in each iteration. Implement this algorithm, and use it to calculate $w$, and then compare the result with the preceding parts."
      ]
    },
    {
      "cell_type": "code",
      "execution_count": 158,
      "metadata": {
        "id": "6cHTQFgOaQBB"
      },
      "outputs": [
        {
          "name": "stdout",
          "output_type": "stream",
          "text": [
            "loss for this problem using gradient descent method is 0.08696507919859263\n"
          ]
        }
      ],
      "source": [
        "def stochastic_gradient_descent(X, Y, k, alpha, num_iter):\n",
        "  '''\n",
        "  X: an m by (n+1) matrix which includes inputs\n",
        "  Y: an m by 1 vector which includes heating loads\n",
        "  k: number of data points used in each iteration\n",
        "  alpha: learning rate\n",
        "  num_iter: number of iterations of the algorithm\n",
        "  '''\n",
        "  m, n = X.shape\n",
        "  w, loss_history = None, None \n",
        "  ### START CODE HERE ###\n",
        "  w = np.random.randn(n)\n",
        "  loss_history = np.zeros(num_iter)\n",
        "  for i in range(num_iter):\n",
        "        cols = np.random.choice(m, k, replace=False)\n",
        "        X_col = X[cols]\n",
        "        Y_col = Y[cols]\n",
        "        loss_history[i] = loss(X_col,Y_col,w)\n",
        "        w = w - alpha * gradient(X_col,Y_col,w)\n",
        "  ### END CODE HERE ###\n",
        "  return w, loss_history\n",
        "\n",
        "w_stoch, loss_history_stoch = stochastic_gradient_descent(X, Y, k=50, alpha=0.1, num_iter=1000)\n",
        "print(f\"loss for this problem using gradient descent method is {loss(X,Y,w_stoch)}\")"
      ]
    },
    {
      "attachments": {},
      "cell_type": "markdown",
      "metadata": {},
      "source": [
        "The loss value of stochastic gradient descent is lower than gradient descent method and higher than direct method. Also, the loss value of this method is close to method gradient descent method.\n",
        "$$0.0837 < 0.0869 < 0.888$$"
      ]
    }
  ],
  "metadata": {
    "colab": {
      "provenance": []
    },
    "kernelspec": {
      "display_name": "Python 3",
      "name": "python3"
    },
    "language_info": {
      "codemirror_mode": {
        "name": "ipython",
        "version": 3
      },
      "file_extension": ".py",
      "mimetype": "text/x-python",
      "name": "python",
      "nbconvert_exporter": "python",
      "pygments_lexer": "ipython3",
      "version": "3.11.4"
    }
  },
  "nbformat": 4,
  "nbformat_minor": 0
}
